{
 "cells": [
  {
   "cell_type": "code",
   "execution_count": null,
   "metadata": {
    "cellUniqueIdByVincent": "13da0"
   },
   "outputs": [],
   "source": [
    "import pandas as pd\n",
    "import numpy as np\n",
    "import matplotlib.pyplot as plt\n",
    "import pandas as pd\n",
    "from utils import compute_eer, compute_eer_2\n",
    "import numpy as np\n",
    "from my_conf_inter import evaluate_with_conf_int\n",
    "import warnings\n",
    "warnings.filterwarnings(\"ignore\")\n"
   ]
  },
  {
   "cell_type": "code",
   "execution_count": 28,
   "metadata": {
    "cellUniqueIdByVincent": "07489"
   },
   "outputs": [
    {
     "name": "stdout",
     "output_type": "stream",
     "text": [
      "eer_dev: 0.002747252747252806, threshold_dev: -0.7637985399174735\n"
     ]
    }
   ],
   "source": [
    "def compute_eer_from_text_file(file_path, threshold=None,gender = \"all\"):\n",
    "    df = pd.read_csv(file_path, delim_whitespace=True, header=None, \n",
    "                 names=[\"file_id\", \"speakers\", \"attack_type\", \"label\", \"score\", \"gender\"])\n",
    "\n",
    "    mapping_labels = {\"bonafide\": 1, \"spoof\": -1}\n",
    "\n",
    "    df.label = df.label.map(mapping_labels)\n",
    "    \n",
    "    if gender == \"male\":\n",
    "        df = df.loc[df[\"gender\"] == \"male\"]\n",
    "    \n",
    "    if gender ==  \"female\":\n",
    "        df = df.loc[df[\"gender\"] == \"female\"]\n",
    "        \n",
    "\n",
    "    pred, labels , eer , misclassifications , misclassification_rate = [], [], [], [], []\n",
    "    if threshold is None:\n",
    "        \n",
    "        eer, threshold = compute_eer( y= df.label.values, y_score = df.score.values)\n",
    "    else:\n",
    "        pred = (df.score.values > threshold).astype(int)\n",
    "        labels = df.label.values \n",
    "    \n",
    "    #misscalssification rate\n",
    "        misclassifications = (pred != labels).sum()  # Count mismatches\n",
    "        misclassification_rate = misclassifications / len(df)  # Rate\n",
    "    \n",
    "    \n",
    "    return eer, threshold , pred , labels , misclassifications , misclassification_rate\n",
    "\n",
    "\n",
    "# Define the path to the text file\n",
    "file_path = \"./ASVspoof2019_bonafide/checkpoint_cm_score_gender_dev.txt\"\n",
    "\n",
    "eer_dev, threshold_dev , _ , _ , _ , _ = compute_eer_from_text_file(file_path)\n",
    "print(f\"eer_dev: {eer_dev}, threshold_dev: {threshold_dev}\")"
   ]
  },
  {
   "cell_type": "code",
   "execution_count": null,
   "metadata": {
    "cellUniqueIdByVincent": "4ac10"
   },
   "outputs": [
    {
     "name": "stdout",
     "output_type": "stream",
     "text": [
      "eer_dev: 0.002747252747252806, threshold_dev: -0.7637985399174735\n",
      "misclassifications: 7\n",
      "misclassification_rate: 0.27472527472527475%\n"
     ]
    }
   ],
   "source": [
    "# The miss classification rate is for the dev set ASVspoof2019\n",
    "file_path = \"./ASVspoof2019_bonafide/checkpoint_cm_score_gender_dev_bonafide.txt\"\n",
    "\n",
    "_, _ , pred , labels , misclassifications , misclassification_rate = compute_eer_from_text_file(file_path,threshold_dev)\n",
    "print(f\"eer_dev: {eer_dev}, threshold_dev: {threshold_dev}\")\n",
    "\n",
    "print(f\"misclassifications: {misclassifications}\")\n",
    "print(f\"misclassification_rate: {100*misclassification_rate}%\")"
   ]
  },
  {
   "cell_type": "code",
   "execution_count": null,
   "metadata": {
    "cellUniqueIdByVincent": "275a2"
   },
   "outputs": [
    {
     "name": "stdout",
     "output_type": "stream",
     "text": [
      "eer_dev: 0.002747252747252806, threshold_dev: -0.7637985399174735\n",
      "misclassifications: 14\n",
      "misclassification_rate: 0.1903467029231815%\n"
     ]
    }
   ],
   "source": [
    "# The miss classification rate is for the eval set ASVspoof2019\n",
    "file_path = \"./ASVspoof2019_bonafide/checkpoint_cm_score_gender_eval_bonafide.txt\"\n",
    "\n",
    "_, _ , pred , labels , misclassifications , misclassification_rate = compute_eer_from_text_file(file_path,threshold_dev)\n",
    "print(f\"eer_dev: {eer_dev}, threshold_dev: {threshold_dev}\")\n",
    "\n",
    "print(f\"misclassifications: {misclassifications}\")\n",
    "print(f\"misclassification_rate: {100*misclassification_rate}%\")"
   ]
  },
  {
   "cell_type": "code",
   "execution_count": null,
   "metadata": {
    "cellUniqueIdByVincent": "6e74d"
   },
   "outputs": [
    {
     "name": "stdout",
     "output_type": "stream",
     "text": [
      "eer_dev: 0.002747252747252806, threshold_dev: -0.7637985399174735\n",
      "misclassifications: 18832\n",
      "misclassification_rate: 60.10084891810813%\n"
     ]
    }
   ],
   "source": [
    "# The miss classification rate is for the dev set ASVspoof05\n",
    "file_path = \"./ASVspoof5_bonafide/checkpoint_cm_score_gender_dev_bonafide.txt\"\n",
    "\n",
    "_, _ , pred , labels , misclassifications , misclassification_rate = compute_eer_from_text_file(file_path,threshold_dev)\n",
    "print(f\"eer_dev: {eer_dev}, threshold_dev: {threshold_dev}\")\n",
    "\n",
    "print(f\"misclassifications: {misclassifications}\")\n",
    "print(f\"misclassification_rate: {100*misclassification_rate}%\")"
   ]
  },
  {
   "cell_type": "code",
   "execution_count": null,
   "metadata": {
    "cellUniqueIdByVincent": "ce2df"
   },
   "outputs": [
    {
     "name": "stdout",
     "output_type": "stream",
     "text": [
      "eer_dev: 0.002747252747252806, threshold_dev: -0.7637985399174735\n",
      "misclassifications: 123977\n",
      "misclassification_rate: 89.39273765574526%\n"
     ]
    }
   ],
   "source": [
    "# The miss classification rate is for the eval set ASVspoof05\n",
    "file_path = \"./ASVspoof5_bonafide/checkpoint_cm_score_gender_eval_bonafide.txt\"\n",
    "\n",
    "_, _ , pred , labels , misclassifications , misclassification_rate = compute_eer_from_text_file(file_path,threshold_dev)\n",
    "print(f\"eer_dev: {eer_dev}, threshold_dev: {threshold_dev}\")\n",
    "\n",
    "print(f\"misclassifications: {misclassifications}\")\n",
    "print(f\"misclassification_rate: {100*misclassification_rate}%\")"
   ]
  },
  {
   "cell_type": "markdown",
   "metadata": {
    "cellUniqueIdByVincent": "8cf25"
   },
   "source": [
    "# With conf intervals:"
   ]
  },
  {
   "cell_type": "code",
   "execution_count": 34,
   "metadata": {
    "cellUniqueIdByVincent": "c1ea7"
   },
   "outputs": [
    {
     "name": "stdout",
     "output_type": "stream",
     "text": [
      " Number of bootstraps:  1000\n",
      " Alpha:  5\n"
     ]
    }
   ],
   "source": [
    "# Percentage for the confidence interval\n",
    "alpha = 5 \n",
    "\n",
    "# Number of bootstrap samples to use (the run time will be proportional to this number). We set it to\n",
    "# 50/alpha*100 to get enough samples in the tails.\n",
    "num_bootstraps = int(50/alpha*100)\n",
    "\n",
    "print(\" Number of bootstraps: \", num_bootstraps)\n",
    "print(\" Alpha: \", alpha)"
   ]
  },
  {
   "cell_type": "code",
   "execution_count": null,
   "metadata": {
    "cellUniqueIdByVincent": "af006"
   },
   "outputs": [
    {
     "name": "stdout",
     "output_type": "stream",
     "text": [
      "Male: eer_dev: (0.005411255411116735, array(-0.75675809)), threshold_dev: [(0.003536885662282277, 0.007694810731716051), (-0.8233057260550921, -0.4548098146899913)]\n",
      "Female: eer_dev: (0.0017857142857142455, array(-0.77178321)), threshold_dev: [(0.0005938154175800659, 0.003036667772817226), (-0.8425731393361604, -0.3266697824393571)]\n",
      "eer_dev: (0.002747252747252806, array(-0.76379854)), threshold_dev: [(0.001984825713206422, 0.004003483798534033), (-0.8136535883218837, -0.6318034941833556)]\n"
     ]
    }
   ],
   "source": [
    "def metric1(labels, scores):\n",
    "    eer, threshold = compute_eer( y= labels, y_score = scores)\n",
    "    return eer,threshold\n",
    "\n",
    "def metric2(labels, scores):\n",
    "    threshold_dev = -0.7637985381451311 #This is the threshold of the eer from the Development set in ASVspoof2019 Database.\n",
    "    pred = (scores > threshold_dev).astype(int)\n",
    "    misclassifications = (pred != labels).sum()  # Count mismatches\n",
    "    misclassification_rate = misclassifications / len(labels)  # Rate   \n",
    "    \n",
    "    return misclassifications , 100*misclassification_rate\n",
    "    \n",
    "\n",
    "def compute_eer_from_text_file(file_path, threshold=None,gender = \"all\"):\n",
    "    df = pd.read_csv(file_path, delim_whitespace=True, header=None, \n",
    "                 names=[\"file_id\", \"speakers\" ,\"attack_type\", \"label\", \"score\", \"gender\"])\n",
    "\n",
    "    mapping_labels = {\"bonafide\": 1, \"spoof\": -1}\n",
    "\n",
    "    df.label = df.label.map(mapping_labels)\n",
    "    \n",
    "    if gender == \"male\":\n",
    "        df = df.loc[df[\"gender\"] == \"male\"]\n",
    "    \n",
    "    if gender ==  \"female\":\n",
    "        df = df.loc[df[\"gender\"] == \"female\"]\n",
    "    \n",
    "    speakers = df[\"speakers\"].values.astype(str)\n",
    "    speakers_int = np.array([int(s[-4:]) for s in speakers])\n",
    "\n",
    "    pred, labels , eer , res = [], [], [], []\n",
    "    if threshold is None:\n",
    "        speakers_int = None\n",
    "        eer, threshold = evaluate_with_conf_int(samples =  df.score.values, metric = metric1, labels = df.label.values, \n",
    "                                              conditions = speakers_int, num_bootstraps=num_bootstraps, alpha=alpha)\n",
    "    else:\n",
    "        res = evaluate_with_conf_int(samples =  df.score.values, metric = metric2, labels = df.label.values, \n",
    "                                              conditions = speakers_int, num_bootstraps=num_bootstraps, alpha=alpha)\n",
    "    \n",
    "    \n",
    "    return eer, threshold , pred , labels , res\n",
    "\n",
    "\n",
    "# compute_eer from the Development set in ASVspoof2019 Database.\n",
    "file_path = \"./ASVspoof2019_bonafide/checkpoint_cm_score_gender_dev.txt\"\n",
    "\n",
    "eer_dev_male, threshold_dev_male , _ , _ , _  = compute_eer_from_text_file(file_path,gender = \"male\")\n",
    "print(f\"Male: eer_dev: {eer_dev_male}, threshold_dev: {threshold_dev_male}\")\n",
    "\n",
    "eer_dev_female, threshold_dev_female , _ , _ , _ = compute_eer_from_text_file(file_path,gender = \"female\")\n",
    "print(f\"Female: eer_dev: {eer_dev_female}, threshold_dev: {threshold_dev_female}\")\n",
    "\n",
    "eer_dev, threshold_dev , _ , _ , _ = compute_eer_from_text_file(file_path,gender = \"all\")\n",
    "print(f\"eer_dev: {eer_dev}, threshold_dev: {threshold_dev}\")"
   ]
  },
  {
   "cell_type": "code",
   "execution_count": null,
   "metadata": {
    "cellUniqueIdByVincent": "50023"
   },
   "outputs": [
    {
     "name": "stdout",
     "output_type": "stream",
     "text": [
      "Male misclassifications: ((4, 0.4608294930875576), [(0.0, 14.024999999999977), (0.0, 1.769706089517831)])\n",
      "Female misclassifications: ((3, 0.17857142857142858), [(0.0, 11.0), (0.0, 0.6270029582152097)])\n",
      "misclassifications: ((7, 0.27472527472527475), [(0.0, 21.0), (0.0, 0.8555979174655614)])\n"
     ]
    }
   ],
   "source": [
    "# The miss classification rate for the dev set in ASVspoof2019\n",
    "file_path = \"./ASVspoof2019_bonafide/checkpoint_cm_score_gender_dev_bonafide.txt\"\n",
    "\n",
    "_, _ ,pred , labels , res = compute_eer_from_text_file(file_path,threshold_dev,gender = \"male\")\n",
    "print(f\"Male misclassifications: {res}\")\n",
    "\n",
    "\n",
    "_, _ , pred , labels , res = compute_eer_from_text_file(file_path,threshold_dev,gender = \"female\")\n",
    "print(f\"Female misclassifications: {res}\")\n",
    "\n",
    "\n",
    "_, _ , pred , labels , res = compute_eer_from_text_file(file_path,threshold_dev,gender = \"all\")\n",
    "print(f\"misclassifications: {res}\")\n"
   ]
  },
  {
   "cell_type": "code",
   "execution_count": null,
   "metadata": {
    "cellUniqueIdByVincent": "583a5"
   },
   "outputs": [
    {
     "name": "stdout",
     "output_type": "stream",
     "text": [
      "Male misclassifications: ((3, 0.1314060446780552), [(0.0, 10.0), (0.0, 0.4329004329004329)])\n",
      "Female misclassifications: ((11, 0.2168769716088328), [(2.0, 26.0), (0.03867723844517501, 0.5123410741115414)])\n",
      "misclassifications: ((14, 0.1903467029231815), [(3.0, 30.0), (0.041796345936625845, 0.391629121607746)])\n"
     ]
    }
   ],
   "source": [
    "# The miss classification rate for the Eval set in ASVspoof2019\n",
    "file_path = \"./ASVspoof2019_bonafide/checkpoint_cm_score_gender_eval_bonafide.txt\"\n",
    "\n",
    "_, _ ,pred , labels , res = compute_eer_from_text_file(file_path,threshold_dev,gender = \"male\")\n",
    "print(f\"Male misclassifications: {res}\")\n",
    "\n",
    "\n",
    "_, _ , pred , labels , res = compute_eer_from_text_file(file_path,threshold_dev,gender = \"female\")\n",
    "print(f\"Female misclassifications: {res}\")\n",
    "\n",
    "\n",
    "_, _ , pred , labels , res = compute_eer_from_text_file(file_path,threshold_dev,gender = \"all\")\n",
    "print(f\"misclassifications: {res}\")"
   ]
  },
  {
   "cell_type": "code",
   "execution_count": null,
   "metadata": {
    "cellUniqueIdByVincent": "e61f1"
   },
   "outputs": [
    {
     "name": "stdout",
     "output_type": "stream",
     "text": [
      "Male misclassifications: ((9212, 58.2779781109635), [(8598.875, 9805.0), (55.21945311081059, 61.3375679256153)])\n",
      "Female misclassifications: ((9620, 61.956591743414705), [(8961.925, 10203.1), (59.00648954585195, 64.88088868317398)])\n",
      "misclassifications: ((18832, 60.10084891810813), [(18009.95, 19645.0), (58.10362201482966, 62.204960519045684)])\n"
     ]
    }
   ],
   "source": [
    "# The miss classification rate for the Dev set in ASVspoof05\n",
    "file_path = \"./ASVspoof5_bonafide/checkpoint_cm_score_gender_dev_bonafide.txt\"\n",
    "\n",
    "_, _ ,pred , labels , res = compute_eer_from_text_file(file_path,threshold_dev,gender = \"male\")\n",
    "print(f\"Male misclassifications: {res}\")\n",
    "\n",
    "\n",
    "_, _ , pred , labels , res = compute_eer_from_text_file(file_path,threshold_dev,gender = \"female\")\n",
    "print(f\"Female misclassifications: {res}\")\n",
    "\n",
    "\n",
    "_, _ , pred , labels , res = compute_eer_from_text_file(file_path,threshold_dev,gender = \"all\")\n",
    "print(f\"misclassifications: {res}\")"
   ]
  },
  {
   "cell_type": "code",
   "execution_count": null,
   "metadata": {
    "cellUniqueIdByVincent": "9bf8c"
   },
   "outputs": [
    {
     "name": "stdout",
     "output_type": "stream",
     "text": [
      "Male misclassifications: ((60877, 88.93385145795594), [(59977.4, 61746.125), (88.05790855293851, 89.8962039964683)])\n",
      "Female misclassifications: ((63100, 89.8399681075232), [(62205.85, 63986.125), (88.99579764355768, 90.67450621529558)])\n",
      "misclassifications: ((123977, 89.39273765574526), [(122713.15, 125182.225), (88.77023097274375, 90.0432665749168)])\n"
     ]
    }
   ],
   "source": [
    "# The miss classification rate for the Eval set in ASVspoof05\n",
    "file_path = \"./ASVspoof5_bonafide/checkpoint_cm_score_gender_eval_bonafide.txt\"\n",
    "\n",
    "_, _ ,pred , labels , res = compute_eer_from_text_file(file_path,threshold_dev,gender = \"male\")\n",
    "print(f\"Male misclassifications: {res}\")\n",
    "\n",
    "\n",
    "_, _ , pred , labels , res = compute_eer_from_text_file(file_path,threshold_dev,gender = \"female\")\n",
    "print(f\"Female misclassifications: {res}\")\n",
    "\n",
    "\n",
    "_, _ , pred , labels , res = compute_eer_from_text_file(file_path,threshold_dev,gender = \"all\")\n",
    "print(f\"misclassifications: {res}\")"
   ]
  }
 ],
 "metadata": {
  "kernelspec": {
   "display_name": "base",
   "language": "python",
   "name": "python3"
  },
  "language_info": {
   "codemirror_mode": {
    "name": "ipython",
    "version": 3
   },
   "file_extension": ".py",
   "mimetype": "text/x-python",
   "name": "python",
   "nbconvert_exporter": "python",
   "pygments_lexer": "ipython3",
   "version": "3.10.9"
  },
  "vincent": {
   "sessionId": "3c447e20f3c3128a36854650_2025-05-23T21-29-36-291Z"
  }
 },
 "nbformat": 4,
 "nbformat_minor": 2
}
